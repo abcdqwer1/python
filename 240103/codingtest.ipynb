{
 "cells": [
  {
   "cell_type": "markdown",
   "metadata": {},
   "source": [
    "실수 flo가 매개 변수로 주어질 때, flo의 정수 부분을 return하도록 solution 함수를 완성해주세요.\n"
   ]
  },
  {
   "cell_type": "code",
   "execution_count": 5,
   "metadata": {},
   "outputs": [
    {
     "data": {
      "text/plain": [
       "1"
      ]
     },
     "execution_count": 5,
     "metadata": {},
     "output_type": "execute_result"
    }
   ],
   "source": [
    "'''\n",
    "문제 설명\n",
    "실수 flo가 매개 변수로 주어질 때, flo의 정수 부분을 return하도록 solution 함수를 완성해주세요.\n",
    "\n",
    "제한사항\n",
    "0 ≤ flo ≤ 100\n",
    "입출력 예\n",
    "flo\tresult\n",
    "1.42\t1\n",
    "69.32\t69\n",
    "입출력 예 설명\n",
    "입출력 예 #1\n",
    "\n",
    "1.42의 정수 부분은 1입니다.\n",
    "입출력 예 #2\n",
    "\n",
    "69.32의 정수 부분은 69입니다.\n",
    "'''\n",
    "\n",
    "def solution(flo):\n",
    "    return int(flo)\n",
    "\n",
    "solution(1.42)"
   ]
  },
  {
   "cell_type": "code",
   "execution_count": 1,
   "metadata": {},
   "outputs": [
    {
     "data": {
      "text/plain": [
       "1"
      ]
     },
     "execution_count": 1,
     "metadata": {},
     "output_type": "execute_result"
    }
   ],
   "source": [
    "'''\n",
    "문제 설명\n",
    "각에서 0도 초과 90도 미만은 예각, 90도는 직각, 90도 초과 180도 미만은 둔각 180도는 평각으로 분류합니다. 각 angle이 매개변수로 주어질 때 예각일 때 1, 직각일 때 2, 둔각일 때 3, 평각일 때 4를 return하도록 solution 함수를 완성해주세요.\n",
    "\n",
    "예각 : 0 < angle < 90\n",
    "직각 : angle = 90\n",
    "둔각 : 90 < angle < 180\n",
    "평각 : angle = 180\n",
    "제한사항\n",
    "0 < angle ≤ 180\n",
    "angle은 정수입니다.\n",
    "입출력 예\n",
    "angle\tresult\n",
    "70\t1\n",
    "91\t3\n",
    "180\t4\n",
    "입출력 예 설명\n",
    "입출력 예 #1\n",
    "\n",
    "angle이 70이므로 예각입니다. 따라서 1을 return합니다.\n",
    "입출력 예 #2\n",
    "\n",
    "angle이 91이므로 둔각입니다. 따라서 3을 return합니다.\n",
    "입출력 예 #2\n",
    "\n",
    "angle이 180이므로 평각입니다. 따라서 4를 return합니다.\n",
    "'''\n",
    "\n",
    "def solution(angle):\n",
    "    if angle > 0 and angle < 90:\n",
    "        return 1\n",
    "    elif angle == 90:\n",
    "        return 2\n",
    "    elif angle > 90 and angle < 180:\n",
    "        return 3\n",
    "    elif angle == 180:\n",
    "        return 4\n",
    "    \n",
    "solution(70)\n"
   ]
  },
  {
   "cell_type": "code",
   "execution_count": null,
   "metadata": {},
   "outputs": [],
   "source": []
  },
  {
   "cell_type": "code",
   "execution_count": null,
   "metadata": {},
   "outputs": [],
   "source": []
  }
 ],
 "metadata": {
  "kernelspec": {
   "display_name": "venv",
   "language": "python",
   "name": "python3"
  },
  "language_info": {
   "codemirror_mode": {
    "name": "ipython",
    "version": 3
   },
   "file_extension": ".py",
   "mimetype": "text/x-python",
   "name": "python",
   "nbconvert_exporter": "python",
   "pygments_lexer": "ipython3",
   "version": "3.11.5"
  }
 },
 "nbformat": 4,
 "nbformat_minor": 2
}
