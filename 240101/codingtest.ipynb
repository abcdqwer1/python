{
 "cells": [
  {
   "cell_type": "markdown",
   "metadata": {},
   "source": [
    "실수 flo가 매개 변수로 주어질 때, flo의 정수 부분을 return하도록 solution 함수를 완성해주세요.\n"
   ]
  },
  {
   "cell_type": "code",
   "execution_count": 5,
   "metadata": {},
   "outputs": [
    {
     "data": {
      "text/plain": [
       "1"
      ]
     },
     "execution_count": 5,
     "metadata": {},
     "output_type": "execute_result"
    }
   ],
   "source": [
    "'''\n",
    "문제 설명\n",
    "실수 flo가 매개 변수로 주어질 때, flo의 정수 부분을 return하도록 solution 함수를 완성해주세요.\n",
    "\n",
    "제한사항\n",
    "0 ≤ flo ≤ 100\n",
    "입출력 예\n",
    "flo\tresult\n",
    "1.42\t1\n",
    "69.32\t69\n",
    "입출력 예 설명\n",
    "입출력 예 #1\n",
    "\n",
    "1.42의 정수 부분은 1입니다.\n",
    "입출력 예 #2\n",
    "\n",
    "69.32의 정수 부분은 69입니다.\n",
    "'''\n",
    "\n",
    "def solution(flo):\n",
    "    return int(flo)\n",
    "\n",
    "solution(1.42)"
   ]
  },
  {
   "cell_type": "code",
   "execution_count": null,
   "metadata": {},
   "outputs": [],
   "source": []
  }
 ],
 "metadata": {
  "kernelspec": {
   "display_name": "venv",
   "language": "python",
   "name": "python3"
  },
  "language_info": {
   "codemirror_mode": {
    "name": "ipython",
    "version": 3
   },
   "file_extension": ".py",
   "mimetype": "text/x-python",
   "name": "python",
   "nbconvert_exporter": "python",
   "pygments_lexer": "ipython3",
   "version": "3.12.0"
  }
 },
 "nbformat": 4,
 "nbformat_minor": 2
}
