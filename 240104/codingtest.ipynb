{
 "cells": [
  {
   "cell_type": "markdown",
   "metadata": {},
   "source": [
    "실수 flo가 매개 변수로 주어질 때, flo의 정수 부분을 return하도록 solution 함수를 완성해주세요.\n"
   ]
  },
  {
   "cell_type": "code",
   "execution_count": 5,
   "metadata": {},
   "outputs": [
    {
     "data": {
      "text/plain": [
       "1"
      ]
     },
     "execution_count": 5,
     "metadata": {},
     "output_type": "execute_result"
    }
   ],
   "source": [
    "'''\n",
    "문제 설명\n",
    "실수 flo가 매개 변수로 주어질 때, flo의 정수 부분을 return하도록 solution 함수를 완성해주세요.\n",
    "\n",
    "제한사항\n",
    "0 ≤ flo ≤ 100\n",
    "입출력 예\n",
    "flo\tresult\n",
    "1.42\t1\n",
    "69.32\t69\n",
    "입출력 예 설명\n",
    "입출력 예 #1\n",
    "\n",
    "1.42의 정수 부분은 1입니다.\n",
    "입출력 예 #2\n",
    "\n",
    "69.32의 정수 부분은 69입니다.\n",
    "'''\n",
    "\n",
    "def solution(flo):\n",
    "    return int(flo)\n",
    "\n",
    "solution(1.42)"
   ]
  },
  {
   "cell_type": "code",
   "execution_count": 1,
   "metadata": {},
   "outputs": [
    {
     "data": {
      "text/plain": [
       "1"
      ]
     },
     "execution_count": 1,
     "metadata": {},
     "output_type": "execute_result"
    }
   ],
   "source": [
    "'''\n",
    "문제 설명\n",
    "각에서 0도 초과 90도 미만은 예각, 90도는 직각, 90도 초과 180도 미만은 둔각 180도는 평각으로 분류합니다. 각 angle이 매개변수로 주어질 때 예각일 때 1, 직각일 때 2, 둔각일 때 3, 평각일 때 4를 return하도록 solution 함수를 완성해주세요.\n",
    "\n",
    "예각 : 0 < angle < 90\n",
    "직각 : angle = 90\n",
    "둔각 : 90 < angle < 180\n",
    "평각 : angle = 180\n",
    "제한사항\n",
    "0 < angle ≤ 180\n",
    "angle은 정수입니다.\n",
    "입출력 예\n",
    "angle\tresult\n",
    "70\t1\n",
    "91\t3\n",
    "180\t4\n",
    "입출력 예 설명\n",
    "입출력 예 #1\n",
    "\n",
    "angle이 70이므로 예각입니다. 따라서 1을 return합니다.\n",
    "입출력 예 #2\n",
    "\n",
    "angle이 91이므로 둔각입니다. 따라서 3을 return합니다.\n",
    "입출력 예 #2\n",
    "\n",
    "angle이 180이므로 평각입니다. 따라서 4를 return합니다.\n",
    "'''\n",
    "\n",
    "def solution(angle):\n",
    "    if angle > 0 and angle < 90:\n",
    "        return 1\n",
    "    elif angle == 90:\n",
    "        return 2\n",
    "    elif angle > 90 and angle < 180:\n",
    "        return 3\n",
    "    elif angle == 180:\n",
    "        return 4\n",
    "    \n",
    "solution(70)\n"
   ]
  },
  {
   "cell_type": "code",
   "execution_count": null,
   "metadata": {},
   "outputs": [],
   "source": [
    "'''\n",
    "문제 설명\n",
    "직각삼각형이 주어졌을 때 빗변의 제곱은 다른 두 변을 각각 제곱한 것의 합과 같습니다.\n",
    "\n",
    "피타고라스.jpg\n",
    "\n",
    "직각삼각형의 한 변의 길이를 나타내는 정수 a와 빗변의 길이를 나타내는 정수 c가 주어질 때, 다른 한 변의 길이의 제곱, b_square 을 출력하도록 한 줄을 수정해 코드를 완성해 주세요.\n",
    "\n",
    "제한사항\n",
    "1 ≤ a < c ≤ 100\n",
    "입출력 예\n",
    "입력 #1\n",
    "\n",
    "3\n",
    "5\n",
    "출력 #1\n",
    "\n",
    "16\n",
    "입력 #2\n",
    "\n",
    "9\n",
    "10\n",
    "출력 #2\n",
    "\n",
    "19\n",
    "입출력 예 설명\n",
    "입출력 예 #1\n",
    "\n",
    "a2 = 9, c2 = 25 이므로 16을 출력합니다.\n",
    "입출력 예 #2\n",
    "\n",
    "a2 = 81, c2 = 100 이므로 19를 출력합니다.\n",
    "'''\n",
    "\n",
    "def solution(a, c):\n",
    "    b_square = c**2 - a**2\n",
    "    return b_square"
   ]
  },
  {
   "cell_type": "code",
   "execution_count": null,
   "metadata": {},
   "outputs": [],
   "source": [
    "'''\n",
    "문제 설명\n",
    "나이를 세는 방법은 여러 가지가 있습니다. 그중 한국식 나이는 태어난 순간 1살이 되며 해가 바뀔 때마다 1살씩 더 먹게 됩니다. 연 나이는 태어난 순간 0살이며 해가 바뀔 때마다 1살씩 더 먹게 됩니다. 각각 나이의 계산법은 다음과 같습니다.\n",
    "\n",
    "한국식 나이 : 현재 연도 - 출생 연도 + 1\n",
    "연 나이 : 현재 연도 - 출생 연도\n",
    "\n",
    "출생 연도를 나타내는 정수 year와 구하려는 나이의 종류를 나타내는 문자열 age_type이 주어질 때 2030년에 몇 살인지 출력하도록 빈칸을 채워 코드를 완성해 주세요. age_type이 \"Korea\"라면 한국식 나이를, \"Year\"라면 연 나이를 출력합니다.\n",
    "\n",
    "제한사항\n",
    "1950 ≤ year ≤ 2030\n",
    "age_type은 \"Korea\" 또는 \"Year\"만 주어집니다.\n",
    "입출력 예\n",
    "입력 #1\n",
    "\n",
    "2000\n",
    "Korea\n",
    "출력 #1\n",
    "\n",
    "31\n",
    "입력 #2\n",
    "\n",
    "1999\n",
    "Year\n",
    "출력 #2\n",
    "\n",
    "31\n",
    "입출력 예 설명\n",
    "입출력 예 #1\n",
    "\n",
    "2030년에 2000년생의 한국식 나이는 2030 - 2000 + 1 = 31살입니다.\n",
    "입출력 예 #2\n",
    "\n",
    "2030년에 1999년생의 연 나이는 2030 - 1999 = 31살입니다.\n",
    "'''\n",
    "\n",
    "def solution(year, age_type):\n",
    "    if age_type == \"Korea\":\n",
    "        return 2030 - year + 1\n",
    "    elif age_type == \"Year\":\n",
    "        return 2030 - year\n"
   ]
  }
 ],
 "metadata": {
  "kernelspec": {
   "display_name": "venv",
   "language": "python",
   "name": "python3"
  },
  "language_info": {
   "codemirror_mode": {
    "name": "ipython",
    "version": 3
   },
   "file_extension": ".py",
   "mimetype": "text/x-python",
   "name": "python",
   "nbconvert_exporter": "python",
   "pygments_lexer": "ipython3",
   "version": "3.11.5"
  }
 },
 "nbformat": 4,
 "nbformat_minor": 2
}
